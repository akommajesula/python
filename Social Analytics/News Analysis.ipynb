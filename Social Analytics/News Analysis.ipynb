{
 "cells": [
  {
   "cell_type": "code",
   "execution_count": 2,
   "metadata": {},
   "outputs": [],
   "source": [
    "# Dependencies\n",
    "import tweepy\n",
    "import json\n",
    "import numpy as np\n",
    "import pandas as pd\n",
    "import matplotlib.pyplot as plt\n",
    "import requests as req\n",
    "from vaderSentiment.vaderSentiment import SentimentIntensityAnalyzer\n",
    "analyzer = SentimentIntensityAnalyzer()\n",
    "\n",
    "# Twitter API Keys\n",
    "consumer_key = \"z1361ehOvQRiA8fg2w288nzLL\"\n",
    "consumer_secret = \"rjA7Qw62eJBoLRAPHC0fD4gGtK5mbQS4HNNrYa9T6tJTBsbjWz\"\n",
    "access_token = \"46737421-5cNyAKgmCJK72Qbm7CXjo7b4Jqiq4BpB8p55rV9z7\"\n",
    "access_token_secret = \"Kc5YUE0pYiE415AfxoVKpsCwksgCljJP2Bk1hYBWeWiZF\"\n",
    "\n",
    "# Setup Tweepy API Authentication\n",
    "auth = tweepy.OAuthHandler(consumer_key, consumer_secret)\n",
    "auth.set_access_token(access_token, access_token_secret)\n",
    "api = tweepy.API(auth, parser=tweepy.parsers.JSONParser())"
   ]
  },
  {
   "cell_type": "code",
   "execution_count": null,
   "metadata": {
    "collapsed": true
   },
   "outputs": [],
   "source": [
    "# Find twitter handles of major news outlets\n",
    "target_user = [\"@BBC\", \"@CBSNews\", \"@CNN\", \"@FoxNews\", \"@nytimes\"]\n",
    "\n",
    "counter = 1\n",
    "# Create an empty DF to be filled in a loop\n",
    "News_df = pd.DataFrame()"
   ]
  },
  {
   "cell_type": "code",
   "execution_count": null,
   "metadata": {
    "collapsed": true
   },
   "outputs": [],
   "source": []
  }
 ],
 "metadata": {
  "kernelspec": {
   "display_name": "Python 3",
   "language": "python",
   "name": "python3"
  },
  "language_info": {
   "codemirror_mode": {
    "name": "ipython",
    "version": 3
   },
   "file_extension": ".py",
   "mimetype": "text/x-python",
   "name": "python",
   "nbconvert_exporter": "python",
   "pygments_lexer": "ipython3",
   "version": "3.6.3"
  }
 },
 "nbformat": 4,
 "nbformat_minor": 2
}
